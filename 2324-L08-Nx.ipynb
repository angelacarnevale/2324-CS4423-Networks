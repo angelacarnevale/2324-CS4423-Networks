{
 "cells": [
  {
   "cell_type": "markdown",
   "metadata": {
    "slideshow": {
     "slide_type": "slide"
    }
   },
   "source": [
    "### CS4423 - Networks\n",
    "Angela Carnevale  \n",
    "School of Mathematical and Statistical Sciences  \n",
    "University of Galway"
   ]
  },
  {
   "cell_type": "markdown",
   "metadata": {},
   "source": [
    "#### 2. Tree and Graph Traversal\n",
    "\n",
    "# Week 4, lecture 2: Graph Traversal. Shortest Paths and distance. \n",
    "\n",
    "## And  a note on Graph Isomorphism\n"
   ]
  },
  {
   "cell_type": "code",
   "execution_count": null,
   "metadata": {
    "slideshow": {
     "slide_type": "subslide"
    }
   },
   "outputs": [],
   "source": [
    "import networkx as nx\n",
    "import numpy as np\n",
    "opts={\"with_labels\":True, \"node_color\":'y'}"
   ]
  },
  {
   "cell_type": "markdown",
   "metadata": {
    "slideshow": {
     "slide_type": "fragment"
    }
   },
   "source": [
    "## Graph Traversal"
   ]
  },
  {
   "cell_type": "markdown",
   "metadata": {
    "slideshow": {
     "slide_type": "skip"
    }
   },
   "source": [
    "* A natural problem arising in many practical applications is the following: Given a pair of nodes $x, y$, find one or all the paths from $x$ to $y$ with the **fewest number of edges** possible.\n",
    "\n",
    "* This is a more complex measure on a network than, say, the degree\n",
    "of a node. And we will need a more complex procedure, that is, an\n",
    "algorithm, in order to solve such problems systematically.\n",
    "\n",
    "Let's start with a proper definition."
   ]
  },
  {
   "cell_type": "markdown",
   "metadata": {
    "slideshow": {
     "slide_type": "skip"
    }
   },
   "source": [
    "**Definition.** Let $G = (X, E)$ be a simple graph and let\n",
    "$x, y \\in X$.  Let $P(x, y)$ be the set of all paths from $x$ to $y$. Then:"
   ]
  },
  {
   "cell_type": "markdown",
   "metadata": {
    "slideshow": {
     "slide_type": "skip"
    }
   },
   "source": [
    "* The __distance__ $d(x, y)$ from $x$ to $y$ is\n",
    "$$d(x, y) = \\min \\{ l(p) : p \\in P(x, y) \\},$$\n",
    "the shortest possible length of a path from $x$ to $y$, and a __shortest path__ from $x$ to $y$ is a path $p \\in P(x, y)$ of length $l(p) = d(x, y)$."
   ]
  },
  {
   "cell_type": "markdown",
   "metadata": {
    "slideshow": {
     "slide_type": "skip"
    }
   },
   "source": [
    "* The __diameter__ $\\mathrm{diam}(G)$ of the network $G$ is the length of the longest shortest path between any two nodes,\n",
    "$$\\mathrm{diam}(G) = \\max \\{ d(x, y) : x, y \\in X \\}.$$"
   ]
  },
  {
   "cell_type": "markdown",
   "metadata": {
    "slideshow": {
     "slide_type": "subslide"
    }
   },
   "source": [
    "### Breadth First Search for Distance\n",
    "\n",
    "We now consider the following problem: Given a node $x \\in X$ in a graph $G$, what\n",
    "are the distances $d(x, y)$ for all nodes $y \\in X$?  "
   ]
  },
  {
   "cell_type": "markdown",
   "metadata": {
    "slideshow": {
     "slide_type": "subslide"
    }
   },
   "source": [
    "* BFS provides a systematic\n",
    "procedure for finding these distances, and the shortest paths through\n",
    "which they are realized. \n",
    "\n",
    "* We will start by describing how BFS works for **graph** traversal."
   ]
  },
  {
   "cell_type": "markdown",
   "metadata": {
    "slideshow": {
     "slide_type": "subslide"
    }
   },
   "source": [
    "In order to describe the algorithm step by step, let's call a node $y$\n",
    "a __neighbor__ (or friend) of node $x$, if $\\{x, y\\}$ is an\n",
    "edge, and let's denote by\n",
    "$$N(x) = \\{ y \\in X : \\{x, y\\} \\in E \\}$$\n",
    "the set of all neighbors of node $x$. "
   ]
  },
  {
   "cell_type": "markdown",
   "metadata": {
    "slideshow": {
     "slide_type": "subslide"
    }
   },
   "source": [
    "The algorithm works through the\n",
    "network **layer by layer**, starting with the given vertex $x$ at layer\n",
    "$0$ and all its friends at layer $1$. It then finds the friends of the\n",
    "friends at layer $2$, and so on, until every node that can be reached\n",
    "from $x$ by a path has been recorded, taking care that **no node gets\n",
    "recorded twice**.  \n",
    "\n",
    "We'll exploit the fact that the layer of a node then corresponds to its distance\n",
    "from the given node $x$."
   ]
  },
  {
   "cell_type": "markdown",
   "metadata": {
    "slideshow": {
     "slide_type": "subslide"
    }
   },
   "source": [
    "In practice, for simple graph traversal, the layers do not\n",
    "need to be made explicit. "
   ]
  },
  {
   "cell_type": "code",
   "execution_count": null,
   "metadata": {
    "slideshow": {
     "slide_type": "subslide"
    }
   },
   "outputs": [],
   "source": [
    "!cat data/bfs.adj"
   ]
  },
  {
   "cell_type": "code",
   "execution_count": null,
   "metadata": {
    "slideshow": {
     "slide_type": "subslide"
    }
   },
   "outputs": [],
   "source": [
    "G = nx.read_adjlist(\"data/bfs.adj\")"
   ]
  },
  {
   "cell_type": "code",
   "execution_count": null,
   "metadata": {
    "slideshow": {
     "slide_type": "subslide"
    }
   },
   "outputs": [],
   "source": [
    "nx.draw(G, **opts)"
   ]
  },
  {
   "cell_type": "code",
   "execution_count": null,
   "metadata": {
    "slideshow": {
     "slide_type": "subslide"
    }
   },
   "outputs": [],
   "source": [
    "for x in G: \n",
    "    G.nodes[x]['seen'] = False"
   ]
  },
  {
   "cell_type": "code",
   "execution_count": null,
   "metadata": {
    "slideshow": {
     "slide_type": "subslide"
    }
   },
   "outputs": [],
   "source": [
    "G.nodes['A']"
   ]
  },
  {
   "cell_type": "code",
   "execution_count": null,
   "metadata": {
    "slideshow": {
     "slide_type": "subslide"
    }
   },
   "outputs": [],
   "source": [
    "Q = []"
   ]
  },
  {
   "cell_type": "code",
   "execution_count": null,
   "metadata": {
    "slideshow": {
     "slide_type": "fragment"
    }
   },
   "outputs": [],
   "source": [
    "Q.append('A')\n",
    "G.nodes['A']['seen'] = True\n",
    "Q"
   ]
  },
  {
   "cell_type": "code",
   "execution_count": null,
   "metadata": {
    "slideshow": {
     "slide_type": "subslide"
    }
   },
   "outputs": [],
   "source": [
    "list(G.neighbors('A'))"
   ]
  },
  {
   "cell_type": "code",
   "execution_count": null,
   "metadata": {
    "slideshow": {
     "slide_type": "fragment"
    }
   },
   "outputs": [],
   "source": [
    "for y in G.neighbors('A'): \n",
    "    Q.append(y)\n",
    "    G.nodes[y]['seen'] = True\n",
    "    \n",
    "## for now we skip checking whether the neighbours have been 'seen' or not, \n",
    "## but we'll need to add this check to the generic step of the algorithm"
   ]
  },
  {
   "cell_type": "code",
   "execution_count": null,
   "metadata": {
    "slideshow": {
     "slide_type": "fragment"
    }
   },
   "outputs": [],
   "source": [
    "Q"
   ]
  },
  {
   "cell_type": "code",
   "execution_count": null,
   "metadata": {
    "slideshow": {
     "slide_type": "subslide"
    }
   },
   "outputs": [],
   "source": [
    "node = 'B'\n",
    "for y in G.neighbors(node):\n",
    "    if not G.nodes[y]['seen']:\n",
    "        Q.append(y)\n",
    "        G.nodes[y]['seen'] = True\n",
    "Q"
   ]
  },
  {
   "cell_type": "code",
   "execution_count": null,
   "metadata": {
    "slideshow": {
     "slide_type": "subslide"
    }
   },
   "outputs": [],
   "source": [
    "node = 'C'\n",
    "for y in G.neighbors(node):\n",
    "    if not G.nodes[y]['seen']:\n",
    "        Q.append(y)\n",
    "        G.nodes[y]['seen'] = True\n",
    "Q"
   ]
  },
  {
   "cell_type": "markdown",
   "metadata": {
    "slideshow": {
     "slide_type": "fragment"
    }
   },
   "source": [
    "... and so on, until there are no more nodes to be processed."
   ]
  },
  {
   "cell_type": "code",
   "execution_count": null,
   "metadata": {
    "slideshow": {
     "slide_type": "subslide"
    }
   },
   "outputs": [],
   "source": [
    "# 1. initialize\n",
    "for x in G: \n",
    "    G.nodes[x]['seen'] = False\n",
    "\n",
    "G.nodes['A']['seen'] = True\n",
    "Q = ['A']\n",
    "\n",
    "# 2. loop\n",
    "for node in Q:\n",
    "    for y in G.neighbors(node):\n",
    "        if not G.nodes[y]['seen']:\n",
    "            Q.append(y)\n",
    "            G.nodes[y]['seen'] = True\n",
    "\n",
    "# 3. output result\n",
    "Q"
   ]
  },
  {
   "cell_type": "markdown",
   "metadata": {
    "slideshow": {
     "slide_type": "subslide"
    }
   },
   "source": [
    "When this process is formulated as an algorithm, we use an explicit __queue__\n",
    "(a first-in first-out buffer) to keep track of the node\n",
    "whose neighbors are currently under consideration.\n",
    "A queue is an array of values that comes with two basic operations:\n",
    "* one can __push__ a value to the end of the queue, and\n",
    "* one can __pop__ a value off the top of the queue (provided\n",
    "the queue is not empty)."
   ]
  },
  {
   "cell_type": "markdown",
   "metadata": {
    "slideshow": {
     "slide_type": "subslide"
    }
   },
   "source": [
    "It can be shown that this version of the algorithm\n",
    "in the common case of a [sparse network](https://en.wikipedia.org/wiki/Sparse_network)\n",
    "has complexity $O(n)$, which is as good as one could hope for."
   ]
  },
  {
   "cell_type": "markdown",
   "metadata": {
    "slideshow": {
     "slide_type": "slide"
    }
   },
   "source": [
    "**Breadth First Search for Distance.**\n",
    "Given a simple graph\n",
    "$G = (X, E)$ and a vertex $x \\in X$,\n",
    "determine $d(x, y)$ for all nodes $y \\in X$."
   ]
  },
  {
   "cell_type": "markdown",
   "metadata": {
    "slideshow": {
     "slide_type": "subslide"
    }
   },
   "source": [
    "1. [Initialize.]  Suppose that $X = \\{x_0, x_1, \\ldots, x_{n-1}\\}$\n",
    "and that $x = x_j$.  Set $d_i \\gets \\perp$ (undefined) for $i = 0, \\dots, n{-}1$.\n",
    "Set $d_j \\gets 0$ and initialize a queue $Q \\gets (x_j)$.\n",
    "\n",
    "2. [Loop.] While $Q \\neq \\emptyset$:\n",
    "   * pop node $x_k$ off $Q$\n",
    "   * for each neighbor $x_l$ of $x_k$ with $d_l = \\perp$:\n",
    "       * push $x_l$ onto $Q$ and set $d_l \\gets d_k + 1$.\n",
    "\n",
    "3. [Stop.] Return the array $(d_0, \\dots, d_{n-1})$."
   ]
  },
  {
   "cell_type": "markdown",
   "metadata": {
    "slideshow": {
     "slide_type": "subslide"
    }
   },
   "source": [
    "Note how in this version of BFS, in contrast to the simple version, a node is visited (setting its $d$ attribute)\n",
    "immediately when it is pushed onto $Q$, rather than later when it pops off $Q$. "
   ]
  },
  {
   "cell_type": "code",
   "execution_count": null,
   "metadata": {
    "slideshow": {
     "slide_type": "subslide"
    }
   },
   "outputs": [],
   "source": [
    "from queue import Queue"
   ]
  },
  {
   "cell_type": "code",
   "execution_count": null,
   "metadata": {
    "slideshow": {
     "slide_type": "subslide"
    }
   },
   "outputs": [],
   "source": [
    "for x in G: \n",
    "    G.nodes[x]['d'] = None # undefined\n",
    "\n",
    "x = 'B'             #starting BFS at vertex B\n",
    "G.nodes[x]['d'] = 0 # and setting its distance to 0\n",
    "Q = Queue()\n",
    "Q.put(x)"
   ]
  },
  {
   "cell_type": "code",
   "execution_count": null,
   "metadata": {
    "slideshow": {
     "slide_type": "subslide"
    }
   },
   "outputs": [],
   "source": [
    "list(Q.queue)"
   ]
  },
  {
   "cell_type": "code",
   "execution_count": null,
   "metadata": {
    "slideshow": {
     "slide_type": "subslide"
    }
   },
   "outputs": [],
   "source": [
    "while not Q.empty():\n",
    "    x = Q.get()\n",
    "    for y in G.neighbors(x):\n",
    "        if G.nodes[y]['d'] is None: # checking if the distance is undefined\n",
    "            G.nodes[y]['d'] = G.nodes[x]['d'] + 1 # if so, define using previous\n",
    "            Q.put(y)\n",
    "    print(x, \": \", list(Q.queue))"
   ]
  },
  {
   "cell_type": "code",
   "execution_count": null,
   "metadata": {
    "slideshow": {
     "slide_type": "subslide"
    }
   },
   "outputs": [],
   "source": [
    "print([G.nodes[x]['d'] for x in G])"
   ]
  },
  {
   "cell_type": "code",
   "execution_count": null,
   "metadata": {
    "slideshow": {
     "slide_type": "subslide"
    }
   },
   "outputs": [],
   "source": [
    "print(list(G.nodes.data('d')))"
   ]
  },
  {
   "cell_type": "markdown",
   "metadata": {
    "slideshow": {
     "slide_type": "slide"
    }
   },
   "source": [
    "## Variants. "
   ]
  },
  {
   "cell_type": "markdown",
   "metadata": {
    "slideshow": {
     "slide_type": "fragment"
    }
   },
   "source": [
    "BFS is an extremely versatile algorithm, which applies in many different\n",
    "situations and can be adapted to produce additional information\n",
    "on a network.\n",
    "\n",
    "For example, BFS run on a node $x$ in a network $G = (X, E)$\n",
    "determines the __connected component__ of $x$ in $G$\n",
    "(as the set of all nodes that get a distance value assigned). "
   ]
  },
  {
   "cell_type": "markdown",
   "metadata": {
    "slideshow": {
     "slide_type": "subslide"
    }
   },
   "source": [
    "With little more work (and an additional array) BFS can produce\n",
    "a __spanning tree__ (or __shortest path tree__).\n",
    "Here, whenever node $x_l$ is pushed onto $Q$, it is assigned\n",
    "the current node $x_k$ (in the additional array)\n",
    "as its predecessor on a shortest path from $x_j$ to $x_l$.\n",
    "The subgraph of the network consisting of these edges is a tree.\n",
    "As a tree, it has exactly one path between the given node $x$\n",
    "and any of its\n",
    "vertices $y$ and, by construction, this path is a shortest path\n",
    "between $x$ and $y$."
   ]
  },
  {
   "cell_type": "code",
   "execution_count": null,
   "metadata": {
    "slideshow": {
     "slide_type": "subslide"
    }
   },
   "outputs": [],
   "source": [
    "for x in G: \n",
    "    G.nodes[x]['d'] = None # set all vertices to undefined\n",
    "\n",
    "x = 'A' # start with vertex A\n",
    "G.nodes[x]['d'] = 0    # set its distance to 0\n",
    "Q = Queue() # initialise a queue Q\n",
    "Q.put(x)  # push x in Q\n",
    "\n",
    "for e in G.edges:  \n",
    "    G.edges[e]['seen'] = False # set all edges to unseen"
   ]
  },
  {
   "cell_type": "code",
   "execution_count": null,
   "metadata": {
    "slideshow": {
     "slide_type": "subslide"
    }
   },
   "outputs": [],
   "source": [
    "while not Q.empty(): \n",
    "    x = Q.get() # pop a vertex from the queue\n",
    "    for y in G.neighbors(x):\n",
    "        if not G.nodes[y]['d']: # undefined? \n",
    "            G.nodes[y]['d'] = G.nodes[x]['d'] + 1 # set distance\n",
    "            Q.put(y) # push in queue\n",
    "            G.edges[x, y]['seen'] = True # set relevant edge to seen\n",
    "    print(x, \": \", list(Q.queue))"
   ]
  },
  {
   "cell_type": "code",
   "execution_count": null,
   "metadata": {
    "slideshow": {
     "slide_type": "subslide"
    }
   },
   "outputs": [],
   "source": [
    "sub = [e for e in G.edges if G.edges[e]['seen']]\n",
    "# subset of edges 'seen' while visiting the graph"
   ]
  },
  {
   "cell_type": "code",
   "execution_count": null,
   "metadata": {
    "slideshow": {
     "slide_type": "subslide"
    }
   },
   "outputs": [],
   "source": [
    "nx.draw(G.edge_subgraph(sub), **opts)"
   ]
  },
  {
   "cell_type": "markdown",
   "metadata": {
    "slideshow": {
     "slide_type": "subslide"
    }
   },
   "source": [
    "Or, one could highlight the spanning tree inside the graph by using, say,\n",
    "red as color for the spanning edges (and blue for the rest)."
   ]
  },
  {
   "cell_type": "code",
   "execution_count": null,
   "metadata": {
    "slideshow": {
     "slide_type": "subslide"
    }
   },
   "outputs": [],
   "source": [
    "colors = ['red' if G.edges[e]['seen'] else 'blue' for e in G.edges]\n",
    "nx.draw(G, edge_color = colors, with_labels = True, width=2.0)"
   ]
  },
  {
   "cell_type": "markdown",
   "metadata": {
    "slideshow": {
     "slide_type": "subslide"
    }
   },
   "source": [
    "* Of course, in order to find distances, or shortest paths\n",
    "between **all pairs** of nodes $x$ and $y$ in a network, one can\n",
    "perform BFS for each of the vertices $x \\in X$ in turn.\n",
    "\n",
    "* In your next assignment, you will see more in detail an implementation of BFS aimed at constructing a spanning tree.\n",
    "\n",
    "* The algorithm and its variants also works on directed networks,\n",
    "but the results then will have to be interpreted in the context of\n",
    "directed networks.\n",
    "\n",
    "More about BFS can be found in [Newman, Section 10.3]."
   ]
  },
  {
   "cell_type": "markdown",
   "metadata": {
    "slideshow": {
     "slide_type": "slide"
    }
   },
   "source": [
    "#### 2. Tree and Graph Traversal\n",
    "\n",
    "## A note on Graph Isomorphism and Symmetries"
   ]
  },
  {
   "cell_type": "markdown",
   "metadata": {
    "slideshow": {
     "slide_type": "subslide"
    }
   },
   "source": [
    "* Two graphs $G = (X, E)$ and $H = (Y, F)$ are said to be **isomorphic** if there\n",
    "is an edge-preserving bijection between their vertex sets $X$ and $Y$.\n",
    "\n",
    "* [Deciding graph isomorphism](https://en.wikipedia.org/wiki/Graph_isomorphism_problem)\n",
    "is computationally hard.\n",
    "\n",
    "* An isomorphism of a graph $G$ with itself is called an **automorphism**,\n",
    "or a **symmetry** of $G$.\n",
    "\n",
    "* Symmetries, or the lack thereof, are interesting properties of networks.\n",
    "\n",
    "* For instance, in random selections, like the random trees on $n$ vertices, it turns out that **more symmetric species are less frequently picked**."
   ]
  },
  {
   "cell_type": "markdown",
   "metadata": {
    "slideshow": {
     "slide_type": "subslide"
    }
   },
   "source": [
    "Morally, this is because graph symmetries are properties of an isomorphism class, rather than a specific graph or network. Let's gather an intuition for this by looking at (small) trees."
   ]
  },
  {
   "cell_type": "markdown",
   "metadata": {
    "slideshow": {
     "slide_type": "slide"
    }
   },
   "source": [
    "## Trees on 4 vertices"
   ]
  },
  {
   "cell_type": "markdown",
   "metadata": {
    "slideshow": {
     "slide_type": "fragment"
    }
   },
   "source": [
    "\n",
    "![4-trees](images/t4.png)"
   ]
  },
  {
   "cell_type": "markdown",
   "metadata": {
    "slideshow": {
     "slide_type": "subslide"
    }
   },
   "source": [
    "According to Cayley's formula, there are indeed $4^{4-2} = 16$ **labelled** trees on $n = 4$ vertices.  But overall, we only see $2$\n",
    "distinct structures: \n",
    "* a **path graph** of length $3$, and \n",
    "* a **star graph** with $3$ spikes."
   ]
  },
  {
   "cell_type": "markdown",
   "metadata": {
    "slideshow": {
     "slide_type": "fragment"
    }
   },
   "source": [
    "These structures are known as **unlabelled trees**\n",
    "(as opposed to a **labelled tree**, where each node corresponds to\n",
    "a specific element of $\\{0, \\dots, n{-}1\\}$)."
   ]
  },
  {
   "cell_type": "code",
   "execution_count": null,
   "metadata": {
    "slideshow": {
     "slide_type": "subslide"
    }
   },
   "outputs": [],
   "source": [
    "n = 4\n",
    "T = nx.random_tree(n)\n",
    "nx.draw(T)"
   ]
  },
  {
   "cell_type": "markdown",
   "metadata": {
    "slideshow": {
     "slide_type": "subslide"
    }
   },
   "source": [
    "As a random graph, the path graph occurs far more often than\n",
    "the star graph.  Is there something wrong with the assumption of uniform\n",
    "distribution?"
   ]
  },
  {
   "cell_type": "markdown",
   "metadata": {
    "slideshow": {
     "slide_type": "subslide"
    }
   },
   "source": [
    "No, there isn't.  It's just that the line **shape** appears more often than the\n",
    "star **shape** in the full list of all **labelled** graphs on 4 points. How often a **shape** appears is a function of how many symmetries (=how many automorphisms) it has."
   ]
  },
  {
   "cell_type": "markdown",
   "metadata": {
    "slideshow": {
     "slide_type": "fragment"
    }
   },
   "source": [
    "Morally, fewer symmetries means that a **shape** will occur more often."
   ]
  },
  {
   "cell_type": "markdown",
   "metadata": {
    "slideshow": {
     "slide_type": "slide"
    }
   },
   "source": [
    "##  Code Corner"
   ]
  },
  {
   "cell_type": "markdown",
   "metadata": {
    "slideshow": {
     "slide_type": "subslide"
    }
   },
   "source": [
    "`python`"
   ]
  },
  {
   "cell_type": "markdown",
   "metadata": {},
   "source": [
    "* `[].pop` [[doc]](https://docs.python.org/2/tutorial/datastructures.html)\n",
    "\n",
    "* `[].extend`  [[doc]](https://docs.python.org/2/tutorial/datastructures.html)"
   ]
  },
  {
   "cell_type": "markdown",
   "metadata": {
    "slideshow": {
     "slide_type": "subslide"
    }
   },
   "source": [
    "### `queue`"
   ]
  },
  {
   "cell_type": "markdown",
   "metadata": {},
   "source": [
    "* `Queue`: [[doc]](https://docs.python.org/3/library/queue.html)"
   ]
  },
  {
   "cell_type": "markdown",
   "metadata": {
    "slideshow": {
     "slide_type": "subslide"
    }
   },
   "source": [
    "### `networkx`"
   ]
  },
  {
   "cell_type": "markdown",
   "metadata": {},
   "source": [
    "* `neighbors`: [[doc]](https://networkx.org/documentation/stable/reference/classes/generated/networkx.Graph.neighbors.html)\n",
    "\n",
    "\n",
    "* `remove_node`: [[doc]](https://networkx.github.io/documentation/stable/reference/classes/generated/networkx.Graph.remove_node.html)\n",
    "\n",
    "\n",
    "* `edge_subgraph`: [[doc]](https://networkx.github.io/documentation/stable/reference/classes/generated/networkx.Graph.edge_subgraph.html)"
   ]
  },
  {
   "cell_type": "markdown",
   "metadata": {
    "slideshow": {
     "slide_type": "subslide"
    }
   },
   "source": [
    "## Exercises."
   ]
  },
  {
   "cell_type": "markdown",
   "metadata": {},
   "source": [
    "1. Compute the distances $d(x, y)$ for all vertices $x$ and $y$ in the above graph `G`. \n",
    "1. Hence determine the diameter $\\mathrm{diam}(G)$.\n",
    "1. Compute a matrix $D= (d_{ij})$ with entries\n",
    "$$\n",
    "d_{ij} = d(i, j),\n",
    "$$\n",
    "the distance between nodes $i$ and $j$ in $H$."
   ]
  },
  {
   "cell_type": "code",
   "execution_count": null,
   "metadata": {},
   "outputs": [],
   "source": []
  }
 ],
 "metadata": {
  "celltoolbar": "Slideshow",
  "kernelspec": {
   "display_name": "Python 3 (ipykernel)",
   "language": "python",
   "name": "python3"
  },
  "language_info": {
   "codemirror_mode": {
    "name": "ipython",
    "version": 3
   },
   "file_extension": ".py",
   "mimetype": "text/x-python",
   "name": "python",
   "nbconvert_exporter": "python",
   "pygments_lexer": "ipython3",
   "version": "3.9.7"
  }
 },
 "nbformat": 4,
 "nbformat_minor": 2
}
