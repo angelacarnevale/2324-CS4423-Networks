{
 "cells": [
  {
   "cell_type": "markdown",
   "metadata": {},
   "source": [
    "### CS4423 - Networks\n",
    "Angela Carnevale  \n",
    "School of Mathematical and Statistical Sciences  \n",
    "University of Galway"
   ]
  },
  {
   "cell_type": "markdown",
   "metadata": {},
   "source": [
    "# Assignment 2"
   ]
  },
  {
   "cell_type": "markdown",
   "metadata": {},
   "source": [
    "Provide answers to the problems in the boxes provided.  \n",
    "\n",
    "The buttons at the top of the page can be used to **create\n",
    "more boxes if needed**.\n",
    "The type of box can be changed from `Code` to `Markdown`.\n",
    "`Code` boxes take (and execute) `python` code.\n",
    "`Markdown` boxes take (and format nicely) **text input**.\n",
    "In this way, you can provide answers, ask questions, \n",
    "or raise issues, in words.\n",
    "\n",
    "When finished, please **print** this notebook into a **PDF** file and submit this to\n",
    "**Canvas**. Please note that you don't need to \"convert\" to PDF, it's enough to Print to PDF (and it should be much easier to do).\n",
    "\n",
    "**Deadline.** Tuesday 27 February at 5pm. "
   ]
  },
  {
   "cell_type": "markdown",
   "metadata": {},
   "source": [
    "## Setup"
   ]
  },
  {
   "cell_type": "markdown",
   "metadata": {},
   "source": [
    "This is a `jupyter` notebook.   You can open and interact\n",
    "with the notebook through one of sites recommended on the webpage of the module.\n",
    "\n",
    "Or, you can\n",
    "install and use `jupyter` as a `python` package on your own laptop or PC.  "
   ]
  },
  {
   "cell_type": "markdown",
   "metadata": {},
   "source": [
    "The following command loads the `networkx` package into the current session.  \n",
    "The next command specifies some standard options that can be useful for drawing graphs.  \n",
    "\n",
    "In order to execute the code in a box,\n",
    "use the mouse or arrow keys to highlight the box and then press SHIFT-RETURN."
   ]
  },
  {
   "cell_type": "code",
   "execution_count": 6,
   "metadata": {},
   "outputs": [],
   "source": [
    "import networkx as nx\n",
    "from queue import Queue\n",
    "import pandas as pd ## can be used to visualise data arising from computing centrality measures\n",
    "opts = { \"with_labels\": True, \"node_color\": 'y' }"
   ]
  },
  {
   "cell_type": "markdown",
   "metadata": {},
   "source": [
    "Should it ever happen that the notebook becomes unusable, start again with a fresh copy."
   ]
  },
  {
   "cell_type": "markdown",
   "metadata": {},
   "source": [
    "## 1. Breadth First Search."
   ]
  },
  {
   "cell_type": "markdown",
   "metadata": {},
   "source": [
    "Breadth First Search (BFS) is a versatile and efficient strategy for systematically visiting\n",
    "all the nodes in a graph.\n",
    "\n",
    "Given a graph $G = (X, E)$ and a starting point $x \\in X$, BFS can be described as the following sequence of steps.\n",
    "\n",
    "1. mark all nodes of $G$ as \"unseen\".\n",
    "\n",
    "2. initialize a list `seen = [x]` and mark `x` as seen.\n",
    "\n",
    "3. loop over the elements `y` in the list `seen` and, in each step, visit the\n",
    "   node `y` and add all of `y`'s neighbors that have not been marked as \"seen\"\n",
    "   to the list `seen` and mark them as seen.\n"
   ]
  },
  {
   "cell_type": "markdown",
   "metadata": {},
   "source": [
    "## Tasks (10+10+20 marks)"
   ]
  },
  {
   "cell_type": "markdown",
   "metadata": {},
   "source": [
    "1. Print out all the nodes of $G$ as discovered when the starting point is node `H`.\n",
    "2. Construct a spanning tree $T2$ of the graph $G$ with node `H` as starting point.\n",
    "3. [10 marks for BFS, 10 for DFS] Draw $T2$. Using code or otherwise, now visit $T2$ by BFS and DFS and determine the order in which the nodes will be visited if `A` is taken as the starting node."
   ]
  },
  {
   "cell_type": "code",
   "execution_count": 4,
   "metadata": {},
   "outputs": [
    {
     "name": "stdout",
     "output_type": "stream",
     "text": [
      "H\n",
      "C\n",
      "D\n",
      "E\n",
      "J\n",
      "A\n",
      "B\n",
      "I\n",
      "K\n",
      "F\n"
     ]
    }
   ],
   "source": [
    "x = 'H'\n",
    "for y in G:\n",
    "    G.nodes[y]['seen'] = False\n",
    "seen = [x]\n",
    "G.nodes[x]['seen'] = True\n",
    "for y in seen:\n",
    "    print(y)\n",
    "    for z in G.neighbors(y):\n",
    "        if not G.nodes[z]['seen']:\n",
    "            seen.append(z)\n",
    "            G.nodes[z]['seen'] = True"
   ]
  },
  {
   "cell_type": "code",
   "execution_count": 9,
   "metadata": {},
   "outputs": [],
   "source": [
    "x = 'H'\n",
    "T2 = nx.Graph()\n",
    "for y in G:\n",
    "    G.nodes[y]['seen'] = False\n",
    "T2.add_node(x)\n",
    "seen = [x]\n",
    "G.nodes[x]['seen'] = True\n",
    "for y in seen:\n",
    "    for z in G.neighbors(y):\n",
    "        if not G.nodes[z]['seen']:\n",
    "            T2.add_edge(y, z)\n",
    "            seen.append(z)\n",
    "            G.nodes[z]['seen'] = True\n",
    "\n",
    "T2 = G.edge_subgraph(sub)"
   ]
  },
  {
   "cell_type": "code",
   "execution_count": 10,
   "metadata": {},
   "outputs": [
    {
     "data": {
      "image/png": "[encoded data removed]",
      "text/plain": [
       "<Figure size 432x288 with 1 Axes>"
      ]
     },
     "metadata": {},
     "output_type": "display_data"
    }
   ],
   "source": [
    "nx.draw(T2,**opts)"
   ]
  },
  {
   "cell_type": "markdown",
   "metadata": {},
   "source": [
    "... you can write your comments in this box ..."
   ]
  },
  {
   "cell_type": "code",
   "execution_count": 11,
   "metadata": {},
   "outputs": [
    {
     "name": "stdout",
     "output_type": "stream",
     "text": [
      "A\n",
      "C\n",
      "E\n",
      "F\n",
      "B\n",
      "I\n",
      "H\n",
      "K\n",
      "D\n",
      "J\n"
     ]
    }
   ],
   "source": [
    "### BFS on tree T2 starting at A\n",
    "\n",
    "x = 'A'\n",
    "for y in G:\n",
    "    G.nodes[y]['seen'] = False\n",
    "seen = [x]\n",
    "G.nodes[x]['seen'] = True\n",
    "for y in seen:\n",
    "    print(y)\n",
    "    for z in G.neighbors(y):\n",
    "        if not G.nodes[z]['seen']:\n",
    "            seen.append(z)\n",
    "            G.nodes[z]['seen'] = True"
   ]
  },
  {
   "cell_type": "code",
   "execution_count": 12,
   "metadata": {},
   "outputs": [],
   "source": [
    "def dfs(tree, x):      \n",
    "    print(x, end=', ') \n",
    "    tree.nodes[x]['seen'] = True\n",
    "    for z in tree[x]:\n",
    "        if not tree.nodes[z]['seen']:\n",
    "            dfs(tree, z)  "
   ]
  },
  {
   "cell_type": "code",
   "execution_count": 15,
   "metadata": {},
   "outputs": [
    {
     "name": "stdout",
     "output_type": "stream",
     "text": [
      "A, C, B, I, H, D, E, J, K, F, "
     ]
    }
   ],
   "source": [
    "for y in T2:\n",
    "    T2.nodes[y]['seen'] = False\n",
    "seen = [x]\n",
    "\n",
    "### DFS on T2 starting at A. \n",
    "\n",
    "dfs(T2,x)"
   ]
  },
  {
   "cell_type": "markdown",
   "metadata": {},
   "source": [
    "<span style=\"color:red\"> \n",
    "    Each Graph/tree traversal is worth 10 marks. Students can do BFS and/or DFS on the tree T2 by hand. Note that the output might slightly differ depending on the ordering of vertices (either in the machine or in their own reading by hand). That is fine, as long as the visits are by breadth and by depth, respectively.  \n",
    "    </span>\n",
    "    \n",
    "    \n",
    "<span style=\"color:red\">     Should the students attempt but not get a correct output, they should still get some marks (e.g. 40% or 70% for each attempt with a non correct output, depending on the entity of the mistake)</span>"
   ]
  },
  {
   "cell_type": "markdown",
   "metadata": {},
   "source": [
    "## 2.  The Counties of Ireland."
   ]
  },
  {
   "cell_type": "markdown",
   "metadata": {},
   "source": [
    "Define a graph `I` on the $32$ counties of the island of Ireland by\n",
    "joining two counties whenever they have a common border.\n",
    "\n",
    "A list of counties and their borders in the adjacency list format\n",
    "can be found in the nearby file `data/ireland.adj`. \n",
    "\n",
    "Remember, you can construct the graph `I` directly from the adjacency list."
   ]
  },
  {
   "cell_type": "markdown",
   "metadata": {},
   "source": [
    "## Tasks (10+20 marks)"
   ]
  },
  {
   "cell_type": "markdown",
   "metadata": {},
   "source": [
    "* What are the order and the size of the resulting graph?"
   ]
  },
  {
   "cell_type": "code",
   "execution_count": 16,
   "metadata": {},
   "outputs": [
    {
     "data": {
      "text/plain": [
       "(32, 76)"
      ]
     },
     "execution_count": 16,
     "metadata": {},
     "output_type": "execute_result"
    }
   ],
   "source": [
    "I = nx.read_adjlist('data/ireland.adj')\n",
    "\n",
    "I.order(), I.size()"
   ]
  },
  {
   "cell_type": "markdown",
   "metadata": {},
   "source": [
    "<span style=\"color:red\">5 (easy) marks here for each of the two invariants computed</span>"
   ]
  },
  {
   "cell_type": "markdown",
   "metadata": {},
   "source": [
    "* In terms of centrality measures, what are the $3$ most central counties, for\n",
    "\n",
    "    1.  degree centrality?\n",
    "    1.  eigenvector centrality?\n",
    "    1.  closeness centrality?\n",
    "    1.  betweenness centrality?\n",
    "\n",
    "Please use as many code and as many text cells as needed and make sure to respond to each point."
   ]
  },
  {
   "cell_type": "code",
   "execution_count": 20,
   "metadata": {},
   "outputs": [],
   "source": [
    "import numpy as np\n",
    "import pandas as pd\n",
    "nx.set_node_attributes(I, nx.degree_centrality(I), 'C^D')\n",
    "nx.set_node_attributes(I, nx.eigenvector_centrality(I), 'C^E')\n",
    "nx.set_node_attributes(I, nx.closeness_centrality(I), 'C^C')\n",
    "nx.set_node_attributes(I, nx.betweenness_centrality(I), 'C^B')"
   ]
  },
  {
   "cell_type": "code",
   "execution_count": 28,
   "metadata": {},
   "outputs": [
    {
     "data": {
      "text/html": [
       "<div>\n",
       "<style scoped>\n",
       "    .dataframe tbody tr th:only-of-type {\n",
       "        vertical-align: middle;\n",
       "    }\n",
       "\n",
       "    .dataframe tbody tr th {\n",
       "        vertical-align: top;\n",
       "    }\n",
       "\n",
       "    .dataframe thead th {\n",
       "        text-align: right;\n",
       "    }\n",
       "</style>\n",
       "<table border=\"1\" class=\"dataframe\">\n",
       "  <thead>\n",
       "    <tr style=\"text-align: right;\">\n",
       "      <th></th>\n",
       "      <th>C^D</th>\n",
       "      <th>C^E</th>\n",
       "      <th>C^C</th>\n",
       "      <th>C^B</th>\n",
       "    </tr>\n",
       "  </thead>\n",
       "  <tbody>\n",
       "    <tr>\n",
       "      <th>Tipperary</th>\n",
       "      <td>0.258065</td>\n",
       "      <td>0.258747</td>\n",
       "      <td>0.397436</td>\n",
       "      <td>0.222681</td>\n",
       "    </tr>\n",
       "    <tr>\n",
       "      <th>Roscommon</th>\n",
       "      <td>0.225806</td>\n",
       "      <td>0.266327</td>\n",
       "      <td>0.413333</td>\n",
       "      <td>0.162350</td>\n",
       "    </tr>\n",
       "    <tr>\n",
       "      <th>Offaly</th>\n",
       "      <td>0.225806</td>\n",
       "      <td>0.327506</td>\n",
       "      <td>0.469697</td>\n",
       "      <td>0.279330</td>\n",
       "    </tr>\n",
       "    <tr>\n",
       "      <th>Meath</th>\n",
       "      <td>0.225806</td>\n",
       "      <td>0.289622</td>\n",
       "      <td>0.455882</td>\n",
       "      <td>0.308805</td>\n",
       "    </tr>\n",
       "    <tr>\n",
       "      <th>Cavan</th>\n",
       "      <td>0.193548</td>\n",
       "      <td>0.250965</td>\n",
       "      <td>0.387500</td>\n",
       "      <td>0.061483</td>\n",
       "    </tr>\n",
       "    <tr>\n",
       "      <th>Tyrone</th>\n",
       "      <td>0.193548</td>\n",
       "      <td>0.142125</td>\n",
       "      <td>0.319588</td>\n",
       "      <td>0.065503</td>\n",
       "    </tr>\n",
       "    <tr>\n",
       "      <th>Monaghan</th>\n",
       "      <td>0.193548</td>\n",
       "      <td>0.209616</td>\n",
       "      <td>0.387500</td>\n",
       "      <td>0.132825</td>\n",
       "    </tr>\n",
       "    <tr>\n",
       "      <th>Kildare</th>\n",
       "      <td>0.193548</td>\n",
       "      <td>0.234722</td>\n",
       "      <td>0.407895</td>\n",
       "      <td>0.116354</td>\n",
       "    </tr>\n",
       "    <tr>\n",
       "      <th>Leitrim</th>\n",
       "      <td>0.193548</td>\n",
       "      <td>0.209394</td>\n",
       "      <td>0.373494</td>\n",
       "      <td>0.120198</td>\n",
       "    </tr>\n",
       "    <tr>\n",
       "      <th>Laois</th>\n",
       "      <td>0.161290</td>\n",
       "      <td>0.217561</td>\n",
       "      <td>0.382716</td>\n",
       "      <td>0.043948</td>\n",
       "    </tr>\n",
       "    <tr>\n",
       "      <th>Westmeath</th>\n",
       "      <td>0.161290</td>\n",
       "      <td>0.250843</td>\n",
       "      <td>0.407895</td>\n",
       "      <td>0.037627</td>\n",
       "    </tr>\n",
       "    <tr>\n",
       "      <th>Armagh</th>\n",
       "      <td>0.161290</td>\n",
       "      <td>0.116446</td>\n",
       "      <td>0.303922</td>\n",
       "      <td>0.030069</td>\n",
       "    </tr>\n",
       "    <tr>\n",
       "      <th>Fermanagh</th>\n",
       "      <td>0.161290</td>\n",
       "      <td>0.175578</td>\n",
       "      <td>0.340659</td>\n",
       "      <td>0.033258</td>\n",
       "    </tr>\n",
       "    <tr>\n",
       "      <th>Galway</th>\n",
       "      <td>0.161290</td>\n",
       "      <td>0.205811</td>\n",
       "      <td>0.402597</td>\n",
       "      <td>0.113614</td>\n",
       "    </tr>\n",
       "    <tr>\n",
       "      <th>Kilkenny</th>\n",
       "      <td>0.161290</td>\n",
       "      <td>0.164078</td>\n",
       "      <td>0.316327</td>\n",
       "      <td>0.021487</td>\n",
       "    </tr>\n",
       "    <tr>\n",
       "      <th>Carlow</th>\n",
       "      <td>0.161290</td>\n",
       "      <td>0.159956</td>\n",
       "      <td>0.333333</td>\n",
       "      <td>0.025321</td>\n",
       "    </tr>\n",
       "    <tr>\n",
       "      <th>Cork</th>\n",
       "      <td>0.129032</td>\n",
       "      <td>0.103450</td>\n",
       "      <td>0.303922</td>\n",
       "      <td>0.018325</td>\n",
       "    </tr>\n",
       "    <tr>\n",
       "      <th>Waterford</th>\n",
       "      <td>0.129032</td>\n",
       "      <td>0.120318</td>\n",
       "      <td>0.313131</td>\n",
       "      <td>0.022268</td>\n",
       "    </tr>\n",
       "    <tr>\n",
       "      <th>Limerick</th>\n",
       "      <td>0.129032</td>\n",
       "      <td>0.103351</td>\n",
       "      <td>0.298077</td>\n",
       "      <td>0.009236</td>\n",
       "    </tr>\n",
       "    <tr>\n",
       "      <th>Donegal</th>\n",
       "      <td>0.129032</td>\n",
       "      <td>0.111941</td>\n",
       "      <td>0.310000</td>\n",
       "      <td>0.046088</td>\n",
       "    </tr>\n",
       "    <tr>\n",
       "      <th>Antrim</th>\n",
       "      <td>0.129032</td>\n",
       "      <td>0.072372</td>\n",
       "      <td>0.254098</td>\n",
       "      <td>0.008530</td>\n",
       "    </tr>\n",
       "    <tr>\n",
       "      <th>Longford</th>\n",
       "      <td>0.129032</td>\n",
       "      <td>0.185741</td>\n",
       "      <td>0.352273</td>\n",
       "      <td>0.004696</td>\n",
       "    </tr>\n",
       "    <tr>\n",
       "      <th>Clare</th>\n",
       "      <td>0.129032</td>\n",
       "      <td>0.119695</td>\n",
       "      <td>0.322917</td>\n",
       "      <td>0.042066</td>\n",
       "    </tr>\n",
       "    <tr>\n",
       "      <th>Wicklow</th>\n",
       "      <td>0.129032</td>\n",
       "      <td>0.118523</td>\n",
       "      <td>0.319588</td>\n",
       "      <td>0.026698</td>\n",
       "    </tr>\n",
       "    <tr>\n",
       "      <th>Wexford</th>\n",
       "      <td>0.129032</td>\n",
       "      <td>0.106951</td>\n",
       "      <td>0.284404</td>\n",
       "      <td>0.015783</td>\n",
       "    </tr>\n",
       "    <tr>\n",
       "      <th>Louth</th>\n",
       "      <td>0.129032</td>\n",
       "      <td>0.128441</td>\n",
       "      <td>0.356322</td>\n",
       "      <td>0.082710</td>\n",
       "    </tr>\n",
       "    <tr>\n",
       "      <th>Kerry</th>\n",
       "      <td>0.096774</td>\n",
       "      <td>0.062037</td>\n",
       "      <td>0.258333</td>\n",
       "      <td>0.000717</td>\n",
       "    </tr>\n",
       "    <tr>\n",
       "      <th>Dublin</th>\n",
       "      <td>0.096774</td>\n",
       "      <td>0.122151</td>\n",
       "      <td>0.348315</td>\n",
       "      <td>0.022107</td>\n",
       "    </tr>\n",
       "    <tr>\n",
       "      <th>Mayo</th>\n",
       "      <td>0.096774</td>\n",
       "      <td>0.110889</td>\n",
       "      <td>0.326316</td>\n",
       "      <td>0.007204</td>\n",
       "    </tr>\n",
       "    <tr>\n",
       "      <th>Down</th>\n",
       "      <td>0.096774</td>\n",
       "      <td>0.060283</td>\n",
       "      <td>0.281818</td>\n",
       "      <td>0.010060</td>\n",
       "    </tr>\n",
       "    <tr>\n",
       "      <th>Derry</th>\n",
       "      <td>0.096774</td>\n",
       "      <td>0.062027</td>\n",
       "      <td>0.267241</td>\n",
       "      <td>0.006028</td>\n",
       "    </tr>\n",
       "    <tr>\n",
       "      <th>Sligo</th>\n",
       "      <td>0.096774</td>\n",
       "      <td>0.111462</td>\n",
       "      <td>0.326316</td>\n",
       "      <td>0.008005</td>\n",
       "    </tr>\n",
       "  </tbody>\n",
       "</table>\n",
       "</div>"
      ],
      "text/plain": [
       "                C^D       C^E       C^C       C^B\n",
       "Tipperary  0.258065  0.258747  0.397436  0.222681\n",
       "Roscommon  0.225806  0.266327  0.413333  0.162350\n",
       "Offaly     0.225806  0.327506  0.469697  0.279330\n",
       "Meath      0.225806  0.289622  0.455882  0.308805\n",
       "Cavan      0.193548  0.250965  0.387500  0.061483\n",
       "Tyrone     0.193548  0.142125  0.319588  0.065503\n",
       "Monaghan   0.193548  0.209616  0.387500  0.132825\n",
       "Kildare    0.193548  0.234722  0.407895  0.116354\n",
       "Leitrim    0.193548  0.209394  0.373494  0.120198\n",
       "Laois      0.161290  0.217561  0.382716  0.043948\n",
       "Westmeath  0.161290  0.250843  0.407895  0.037627\n",
       "Armagh     0.161290  0.116446  0.303922  0.030069\n",
       "Fermanagh  0.161290  0.175578  0.340659  0.033258\n",
       "Galway     0.161290  0.205811  0.402597  0.113614\n",
       "Kilkenny   0.161290  0.164078  0.316327  0.021487\n",
       "Carlow     0.161290  0.159956  0.333333  0.025321\n",
       "Cork       0.129032  0.103450  0.303922  0.018325\n",
       "Waterford  0.129032  0.120318  0.313131  0.022268\n",
       "Limerick   0.129032  0.103351  0.298077  0.009236\n",
       "Donegal    0.129032  0.111941  0.310000  0.046088\n",
       "Antrim     0.129032  0.072372  0.254098  0.008530\n",
       "Longford   0.129032  0.185741  0.352273  0.004696\n",
       "Clare      0.129032  0.119695  0.322917  0.042066\n",
       "Wicklow    0.129032  0.118523  0.319588  0.026698\n",
       "Wexford    0.129032  0.106951  0.284404  0.015783\n",
       "Louth      0.129032  0.128441  0.356322  0.082710\n",
       "Kerry      0.096774  0.062037  0.258333  0.000717\n",
       "Dublin     0.096774  0.122151  0.348315  0.022107\n",
       "Mayo       0.096774  0.110889  0.326316  0.007204\n",
       "Down       0.096774  0.060283  0.281818  0.010060\n",
       "Derry      0.096774  0.062027  0.267241  0.006028\n",
       "Sligo      0.096774  0.111462  0.326316  0.008005"
      ]
     },
     "execution_count": 28,
     "metadata": {},
     "output_type": "execute_result"
    }
   ],
   "source": [
    "pd.DataFrame.from_dict(\n",
    "    dict(I.nodes(data=True)), \n",
    "    orient='index').sort_values('C^D', ascending=False)"
   ]
  },
  {
   "cell_type": "markdown",
   "metadata": {},
   "source": [
    "1. <span style=\"color:blue\">There's 4 counties of highest **degree centrality** (three on a tie): Tipperary, Roscommon, Offaly, Meath</span>"
   ]
  },
  {
   "cell_type": "markdown",
   "metadata": {},
   "source": [
    "2. <span style=\"color:blue\">(Similarly... ) There's 3 counties of highest **eigenvector centrality**: Roscommon, Offaly, Meath</span>"
   ]
  },
  {
   "cell_type": "markdown",
   "metadata": {},
   "source": [
    "3. <span style=\"color:blue\">There's 3 counties of highest **closeness** centrality: Roscommon, Offaly, Meath</span>"
   ]
  },
  {
   "cell_type": "markdown",
   "metadata": {},
   "source": [
    "4. <span style=\"color:blue\">There's 3 counties of highest **betweenness centrality**: Roscommon, Offaly, Meath</span>"
   ]
  },
  {
   "cell_type": "markdown",
   "metadata": {},
   "source": [
    "<span style=\"color:red\"> Some students will print only the top 3 counties and that's perfect. If the fact that they are displaying the top three is evident from the code, that's enough (no further comments requirements).</span>\n",
    "\n",
    "<span style=\"color:red\">5 marks here for each of the rankings with respect to the four centrality measures</span>"
   ]
  },
  {
   "cell_type": "code",
   "execution_count": null,
   "metadata": {},
   "outputs": [],
   "source": []
  },
  {
   "cell_type": "markdown",
   "metadata": {},
   "source": [
    "## 3. Constructing examples."
   ]
  },
  {
   "cell_type": "markdown",
   "metadata": {},
   "source": [
    "## Tasks (10+10+10 marks)"
   ]
  },
  {
   "cell_type": "markdown",
   "metadata": {},
   "source": [
    "1. Give an example of a graph on 8 vertices all of which have degree centrality equal to 4. For such graph,  also compute the normalised eigenvector, closeness and betweenness centralities. What do you observe? \n",
    "\n",
    "1. Determine the normalised degree centrality of the nodes in some\n",
    "   random trees.  Is there some function of the degree centrality that is constant across your examples? Why?\n",
    "   \n",
    "1. Give an example of a graph on $n=6,7,8$ vertices which has a _unique_ node that is highest ranked with respect to normalised degree, closeness and betweenness centrality. Can you think of such an example for any $n$? \n"
   ]
  },
  {
   "cell_type": "markdown",
   "metadata": {},
   "source": [
    "<span style=\"color:red\"> In 1, there are two regular graphs on 8 vertices each of degree 4. In one case, all vertices look the same with respect to all centrality measures. In the other case, degree, eigenvector and closeness centrality are the same for all nodes, while betweenness is different. Students aren't required to explain why, just to record their observations. </span>\n",
    "    \n",
    "    * If they give a correct example and make correct observations they get full marks. \n",
    "    * If some of the observations are incorrect, only award partial marks, 7/10. \n",
    "    * If the example is not correct but attempted, 4/10."
   ]
  },
  {
   "cell_type": "markdown",
   "metadata": {},
   "source": [
    "<span style=\"color:blue\"> 2. We can see that the sum of the normalised degree centrality is constant, equal to 2. The reason is that a tree on $n$ vertices has size $n-1$. Hence sum of the degrees is $2(n-1)$ and therefore the normalised degree centrality always sums up to $2$.</span>\n",
    "\n",
    "<span style=\"color:red\"> In fact, students don't even need to print the trees as they should know this from the handshake lemma from early in the semester. </span>\n",
    "    \n",
    "    * Full marks for complete explanation (even if not rigorous)\n",
    "    * If the explanation isn't precise but students get the idea that this has something to do with the average degree or total degree, they should get partial marks (7/10). \n",
    "    * If they print out trees and attempt this but are not on the right track they get 4/10"
   ]
  },
  {
   "cell_type": "markdown",
   "metadata": {},
   "source": [
    "3. <span style=\"color:blue\"> A star graph on 6, 7, 8 (or $n$) vertices has one single vertex (the one of degree $n-1$) that has highest normalised degree (equal to 1), highest closeness and betweenness centralities (also equal to 1).</span>"
   ]
  },
  {
   "cell_type": "markdown",
   "metadata": {},
   "source": [
    "<span style=\"color:red\"> Here half of the marks are for producing the examples for $n=6,7,8$, and the remaining half for giving an general example that works for all n. "
   ]
  },
  {
   "cell_type": "markdown",
   "metadata": {},
   "source": [
    "...your comments here..."
   ]
  }
 ],
 "metadata": {
  "kernelspec": {
   "display_name": "Python 3 (ipykernel)",
   "language": "python",
   "name": "python3"
  },
  "language_info": {
   "codemirror_mode": {
    "name": "ipython",
    "version": 3
   },
   "file_extension": ".py",
   "mimetype": "text/x-python",
   "name": "python",
   "nbconvert_exporter": "python",
   "pygments_lexer": "ipython3",
   "version": "3.9.7"
  }
 },
 "nbformat": 4,
 "nbformat_minor": 2
}
