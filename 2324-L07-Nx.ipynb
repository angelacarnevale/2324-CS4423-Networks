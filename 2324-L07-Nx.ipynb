{
 "cells": [
  {
   "cell_type": "markdown",
   "metadata": {
    "slideshow": {
     "slide_type": "slide"
    }
   },
   "source": [
    "### CS4423 - Networks\n",
    "Angela Carnevale  \n",
    "School of Mathematical and Statistical Sciences  \n",
    "University of Galway"
   ]
  },
  {
   "cell_type": "markdown",
   "metadata": {},
   "source": [
    "#### 2. Tree and Graph Traversal\n",
    "\n",
    "# Week 4, lecture 1: Depth and Breadth First Search. "
   ]
  },
  {
   "cell_type": "code",
   "execution_count": null,
   "metadata": {
    "slideshow": {
     "slide_type": "subslide"
    }
   },
   "outputs": [],
   "source": [
    "import networkx as nx\n",
    "import numpy as np\n",
    "opts={\"with_labels\":True, \"node_color\":'y'}"
   ]
  },
  {
   "cell_type": "markdown",
   "metadata": {
    "slideshow": {
     "slide_type": "fragment"
    }
   },
   "source": [
    "Both [DFS](https://en.wikipedia.org/wiki/Depth-first_search)\n",
    "and [BFS](https://en.wikipedia.org/wiki/Breadth-first_search)\n",
    "are simple but efficient tree (and graph) traversal algorithms."
   ]
  },
  {
   "cell_type": "markdown",
   "metadata": {
    "slideshow": {
     "slide_type": "subslide"
    }
   },
   "source": [
    "## Depth First Search"
   ]
  },
  {
   "cell_type": "markdown",
   "metadata": {
    "slideshow": {
     "slide_type": "fragment"
    }
   },
   "source": [
    "**DFS**: Given a rooted tree $T$ with root $x$, visit all nodes in the tree.\n",
    "* $S \\gets (x)$\n",
    "* while $S \\neq \\emptyset$:\n",
    "* &nbsp; $y \\gets S$.pop() \n",
    "* &nbsp; visit($y$) \n",
    "* &nbsp; $S$.push($y$.children)\n",
    "\n",
    "Here $S$ is a [**stack**](https://en.wikipedia.org/wiki/Stack_(abstract_data_type)) (LIFO):\n",
    "$S$.pop() yields the **newest** entry."
   ]
  },
  {
   "cell_type": "code",
   "execution_count": null,
   "metadata": {
    "slideshow": {
     "slide_type": "subslide"
    }
   },
   "outputs": [],
   "source": [
    "TT = nx.random_tree(10)\n",
    "nx.draw(TT, **opts)\n",
    "TT.edges()"
   ]
  },
  {
   "cell_type": "code",
   "execution_count": null,
   "metadata": {
    "slideshow": {
     "slide_type": "subslide"
    }
   },
   "outputs": [],
   "source": [
    "T = TT.copy()\n",
    "x = 0\n",
    "stack = [x]\n",
    "while len(stack) > 0:\n",
    "    y = stack.pop()\n",
    "    stack.extend(T[y])\n",
    "    T.remove_node(y)\n",
    "    print(y, stack)"
   ]
  },
  {
   "cell_type": "markdown",
   "metadata": {
    "slideshow": {
     "slide_type": "slide"
    }
   },
   "source": [
    "## Breadth First Search"
   ]
  },
  {
   "cell_type": "markdown",
   "metadata": {
    "slideshow": {
     "slide_type": "fragment"
    }
   },
   "source": [
    "**BFS**: Given a rooted tree $T$ with root $x$, visit all nodes in the tree.\n",
    "* $Q \\gets (x)$\n",
    "* while $Q \\neq \\emptyset$:\n",
    "* &nbsp; $y \\gets Q$.pop() \n",
    "* &nbsp; visit($y$) \n",
    "* &nbsp; $Q$.push($y$.children)\n",
    "\n",
    "Here, $Q$ is a [**queue**](https://en.wikipedia.org/wiki/Queue_(abstract_data_type)) (FIFO):\n",
    "$Q$.pop() yields the **oldest** entry."
   ]
  },
  {
   "cell_type": "code",
   "execution_count": null,
   "metadata": {
    "slideshow": {
     "slide_type": "subslide"
    }
   },
   "outputs": [],
   "source": [
    "T = TT.copy()\n",
    "x = 0\n",
    "queue = [x]\n",
    "while len(queue) > 0:\n",
    "    y = queue.pop(0)\n",
    "    queue.extend(T[y])\n",
    "    T.remove_node(y)\n",
    "    print(y, queue)"
   ]
  },
  {
   "cell_type": "code",
   "execution_count": null,
   "metadata": {
    "slideshow": {
     "slide_type": "subslide"
    }
   },
   "outputs": [],
   "source": [
    "nx.draw(TT, **opts)"
   ]
  },
  {
   "cell_type": "markdown",
   "metadata": {
    "slideshow": {
     "slide_type": "subslide"
    }
   },
   "source": [
    "Many questions on networks concerning distance and connectivity can\n",
    "be answered by a versatile strategy called **Breadth First Search (BFS)**\n",
    "which effectively grows a **spanning tree** of the underlying graph."
   ]
  },
  {
   "cell_type": "markdown",
   "metadata": {
    "slideshow": {
     "slide_type": "subslide"
    }
   },
   "source": [
    "### Alternative Implementations\n",
    "\n",
    "Both DFS and BFS are more like strategies, rather than specific algorithms.\n",
    "Different problems might require different implementations.\n",
    "Sometimes, the stack, or the queue don't have to be made explicit:\n",
    "\n",
    "* In a recursive implementation, DFS can make use of the (`python`) interpreter's\n",
    "  **function call stack**.\n",
    "  \n",
    "* BFS can take advantage of the fact that some types of lists in a (`python`) `for` loops\n",
    "  are largely organized as **queues**.\n"
   ]
  },
  {
   "cell_type": "markdown",
   "metadata": {
    "slideshow": {
     "slide_type": "subslide"
    }
   },
   "source": [
    "In order to keep track of which nodes have already been visited, we maintain for each node\n",
    "an attribute `\"seen\"` that is initially `False`, and becomes `True` when the DFS/BFS visits the node.\n",
    "\n",
    "In `networkx`, the attributes of a node `x` in a graph `G` are kept in a dictionary `G.nodes[x]`."
   ]
  },
  {
   "cell_type": "code",
   "execution_count": null,
   "metadata": {
    "slideshow": {
     "slide_type": "fragment"
    }
   },
   "outputs": [],
   "source": [
    "n = 10\n",
    "T = nx.random_tree(n)\n",
    "nx.draw(T, **opts)"
   ]
  },
  {
   "cell_type": "code",
   "execution_count": null,
   "metadata": {
    "slideshow": {
     "slide_type": "subslide"
    }
   },
   "outputs": [],
   "source": [
    "TT = T.copy()\n",
    "for x in TT:\n",
    "    TT.nodes[x]['seen'] = False\n",
    "TT.nodes('seen')"
   ]
  },
  {
   "cell_type": "markdown",
   "metadata": {
    "slideshow": {
     "slide_type": "subslide"
    }
   },
   "source": [
    "* DFS on a tree:"
   ]
  },
  {
   "cell_type": "code",
   "execution_count": null,
   "metadata": {
    "slideshow": {
     "slide_type": "fragment"
    }
   },
   "outputs": [],
   "source": [
    "def dfs(tree, x):      \n",
    "    print(x, end=', ') \n",
    "    tree.nodes[x]['seen'] = True\n",
    "    for z in tree[x]:\n",
    "        if not tree.nodes[z]['seen']:\n",
    "            dfs(tree, z)    "
   ]
  },
  {
   "cell_type": "code",
   "execution_count": null,
   "metadata": {
    "slideshow": {
     "slide_type": "subslide"
    }
   },
   "outputs": [],
   "source": [
    "dfs(TT, 3)"
   ]
  },
  {
   "cell_type": "markdown",
   "metadata": {
    "slideshow": {
     "slide_type": "subslide"
    }
   },
   "source": [
    "* BFS on a tree:"
   ]
  },
  {
   "cell_type": "code",
   "execution_count": null,
   "metadata": {
    "slideshow": {
     "slide_type": "fragment"
    }
   },
   "outputs": [],
   "source": [
    "TT = T.copy()\n",
    "for x in TT:\n",
    "    TT.nodes[x]['seen'] = False"
   ]
  },
  {
   "cell_type": "code",
   "execution_count": null,
   "metadata": {
    "slideshow": {
     "slide_type": "subslide"
    }
   },
   "outputs": [],
   "source": [
    "Q = [3]\n",
    "TT.nodes[3]['seen'] = True\n",
    "for y in Q:\n",
    "    print(y, end=', ')\n",
    "    for z in TT[y]:\n",
    "        if not TT.nodes[z]['seen']:\n",
    "            Q.append(z)\n",
    "            TT.nodes[z]['seen'] = True"
   ]
  },
  {
   "cell_type": "code",
   "execution_count": null,
   "metadata": {
    "slideshow": {
     "slide_type": "subslide"
    }
   },
   "outputs": [],
   "source": [
    "nx.draw(T, **opts)"
   ]
  },
  {
   "cell_type": "markdown",
   "metadata": {
    "slideshow": {
     "slide_type": "slide"
    }
   },
   "source": [
    "## Graph Traversal"
   ]
  },
  {
   "cell_type": "markdown",
   "metadata": {
    "slideshow": {
     "slide_type": "slide"
    }
   },
   "source": [
    "## Shortest Paths\n",
    "\n",
    "* Recall that a __path__ in a network $G = (X, E)$\n",
    "is a sequence $p = (x_0, x_1, \\dots, x_k)$ of\n",
    "nodes $x_i \\in X$, $i = 0, \\dots, k$, such that any\n",
    "pair of consecutive nodes forms an edge in $G$, i.e.,\n",
    "$\\{x_{i-1}, x_i\\} \\in E$ for all $i = 1, \\dots, k$.\n",
    "\n",
    "* The __length__ $l(p)$ of the path $p$ is the\n",
    "number of edges, $l(p) = k$."
   ]
  },
  {
   "cell_type": "markdown",
   "metadata": {
    "slideshow": {
     "slide_type": "subslide"
    }
   },
   "source": [
    "* In many practical applications it is of interest to find\n",
    "for a pair $x, y$ of nodes, one or all the paths form $x$ to $y$\n",
    "connecting the two nodes with the **fewest number of edges** possible.\n",
    "\n",
    "* This is a more complex measure on a network than, say, the degree\n",
    "of a node. And we will need a more complex procedure, that is, an\n",
    "algorithm, in order to answer such questions systematically.\n",
    "Let's start with a proper definition."
   ]
  },
  {
   "cell_type": "markdown",
   "metadata": {
    "slideshow": {
     "slide_type": "subslide"
    }
   },
   "source": [
    "**Definition.** Let $G = (X, E)$ be a simple graph and let\n",
    "$x, y \\in X$.  Let $P(x, y)$ be the set of all paths from $x$ to $y$.\n",
    "Then the __distance__ $d(x, y)$ from $x$ to $y$ is\n",
    "$$d(x, y) = \\min \\{ l(p) : p \\in P(x, y) \\},$$\n",
    "the shortest possible length of a path from $x$ to $y$, and a __shortest path__ from $x$ to $y$ is a path $p \\in P(x, y)$ of length $l(p) = d(x, y)$.\n",
    "\n",
    "The __diameter__ $\\mathrm{diam}(G)$ of the network $G$ is the length of the longest shortest path between any two nodes,\n",
    "$$\\mathrm{diam}(G) = \\max \\{ d(x, y) : x, y \\in X \\}.$$\n"
   ]
  },
  {
   "cell_type": "markdown",
   "metadata": {
    "slideshow": {
     "slide_type": "slide"
    }
   },
   "source": [
    "##  Code Corner"
   ]
  },
  {
   "cell_type": "markdown",
   "metadata": {
    "slideshow": {
     "slide_type": "subslide"
    }
   },
   "source": [
    "`python`"
   ]
  },
  {
   "cell_type": "markdown",
   "metadata": {
    "slideshow": {
     "slide_type": "subslide"
    }
   },
   "source": [
    "* `[].pop` [[doc]](https://docs.python.org/2/tutorial/datastructures.html)\n",
    "\n",
    "* `[].extend`  [[doc]](https://docs.python.org/2/tutorial/datastructures.html)"
   ]
  },
  {
   "cell_type": "markdown",
   "metadata": {
    "slideshow": {
     "slide_type": "subslide"
    }
   },
   "source": [
    "### `networkx`"
   ]
  },
  {
   "cell_type": "markdown",
   "metadata": {
    "slideshow": {
     "slide_type": "subslide"
    }
   },
   "source": [
    "* `remove_node`: [[doc]](https://networkx.github.io/documentation/stable/reference/classes/generated/networkx.Graph.remove_node.html)\n",
    "\n",
    "\n",
    "* `edge_subgraph`: [[doc]](https://networkx.github.io/documentation/stable/reference/classes/generated/networkx.Graph.edge_subgraph.html)"
   ]
  },
  {
   "cell_type": "code",
   "execution_count": null,
   "metadata": {},
   "outputs": [],
   "source": []
  }
 ],
 "metadata": {
  "celltoolbar": "Slideshow",
  "kernelspec": {
   "display_name": "Python 3 (ipykernel)",
   "language": "python",
   "name": "python3"
  },
  "language_info": {
   "codemirror_mode": {
    "name": "ipython",
    "version": 3
   },
   "file_extension": ".py",
   "mimetype": "text/x-python",
   "name": "python",
   "nbconvert_exporter": "python",
   "pygments_lexer": "ipython3",
   "version": "3.9.7"
  }
 },
 "nbformat": 4,
 "nbformat_minor": 2
}
