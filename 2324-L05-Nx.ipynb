{
 "cells": [
  {
   "cell_type": "markdown",
   "metadata": {
    "slideshow": {
     "slide_type": "slide"
    }
   },
   "source": [
    "### CS4423 - Networks\n",
    "Angela Carnevale  \n",
    "School of Mathematical and Statistical Sciences  \n",
    "University of Galway\n",
    "\n",
    "#### 1. Graphs and Graph Theory\n",
    "\n",
    "# Week 3, lecture 1: \n",
    "\n",
    "# Bipartite Graphs, Block Matrices and Projections. "
   ]
  },
  {
   "cell_type": "code",
   "execution_count": null,
   "metadata": {
    "slideshow": {
     "slide_type": "subslide"
    }
   },
   "outputs": [],
   "source": [
    "import networkx as nx\n",
    "import numpy as np"
   ]
  },
  {
   "cell_type": "code",
   "execution_count": null,
   "metadata": {},
   "outputs": [],
   "source": [
    "opts = { \"with_labels\": True, \"node_color\":'y' }"
   ]
  },
  {
   "cell_type": "markdown",
   "metadata": {
    "slideshow": {
     "slide_type": "slide"
    }
   },
   "source": [
    "## Bipartite Graphs and colorings"
   ]
  },
  {
   "cell_type": "markdown",
   "metadata": {
    "slideshow": {
     "slide_type": "subslide"
    }
   },
   "source": [
    "A **(vertex)-coloring** of a graph $G$ is an assignment of (finitely many) colors to the nodes of $G$,\n",
    "so that any two nodes which are connected by an edge have *different* colors.\n",
    "\n",
    "* A graph is called **$N$-colorable**, if it has a vertex coloring with (at most) $N$ colors.\n",
    "\n",
    "* The **chromatic number of a graph $G$** is smallest $N$ for which a graph $G$ is $N$-colorable."
   ]
  },
  {
   "cell_type": "markdown",
   "metadata": {
    "slideshow": {
     "slide_type": "subslide"
    }
   },
   "source": [
    "**Theorem.** Let $G$ be a graph.  The following are equivalent:\n",
    "\n",
    "* $G$ is bipartite;\n",
    "\n",
    "* $G$ is $2$-colorable;\n",
    " \n",
    "* each cycle in $G$ has even length.\n",
    "\n",
    "(We'll give precise definitions of **cycle** and **length** in a bit)\n"
   ]
  },
  {
   "cell_type": "markdown",
   "metadata": {
    "slideshow": {
     "slide_type": "subslide"
    }
   },
   "source": [
    "The method `nx.bipartite.color` determines a $2$-coloring of a graph $G$ algorithmically, if it exists, i.e. if\n",
    "$G$ is bipartite. "
   ]
  },
  {
   "cell_type": "markdown",
   "metadata": {},
   "source": [
    "For instance, consider a 2-dimensional $4\\times 4$ grid:"
   ]
  },
  {
   "cell_type": "code",
   "execution_count": null,
   "metadata": {},
   "outputs": [],
   "source": [
    "G44 = nx.grid_2d_graph(4, 4)\n",
    "nx.draw(G44)"
   ]
  },
  {
   "cell_type": "code",
   "execution_count": null,
   "metadata": {},
   "outputs": [],
   "source": [
    "color = nx.bipartite.color(G44)\n",
    "color"
   ]
  },
  {
   "cell_type": "code",
   "execution_count": null,
   "metadata": {},
   "outputs": [],
   "source": [
    "color = [color[x] for x in G44.nodes()]\n",
    "color"
   ]
  },
  {
   "cell_type": "code",
   "execution_count": null,
   "metadata": {},
   "outputs": [],
   "source": [
    "opts2 = { \"with_labels\": True, \"node_color\":color, \"font_color\":'r' }"
   ]
  },
  {
   "cell_type": "code",
   "execution_count": null,
   "metadata": {},
   "outputs": [],
   "source": [
    "nx.draw(G44, **opts2)"
   ]
  },
  {
   "cell_type": "markdown",
   "metadata": {},
   "source": [
    "**Note.** This won't work on a graph that is not $2$-colorable:"
   ]
  },
  {
   "cell_type": "code",
   "execution_count": null,
   "metadata": {},
   "outputs": [],
   "source": [
    "nx.bipartite.color(nx.complete_graph(3))"
   ]
  },
  {
   "cell_type": "markdown",
   "metadata": {
    "slideshow": {
     "slide_type": "slide"
    }
   },
   "source": [
    "## Affiliation Networks and Projections\n",
    "\n",
    "Bipartite graphs arise in practice as models for **affiliation networks**.\n",
    "In such a network, on one side of the graph we find people or *actors*, and on the other side attributes \n",
    "of the people, such as common interests (books bought online, TV shows watched), workplaces, social events attended ...\n",
    "Edges in such network connect people with their attributes.\n",
    "\n"
   ]
  },
  {
   "cell_type": "markdown",
   "metadata": {
    "slideshow": {
     "slide_type": "subslide"
    }
   },
   "source": [
    "We construct a bipartite graph on the vertex set consisting of some of the first respondents to the survey and the 12 TV shows by using the following adjacency list:"
   ]
  },
  {
   "cell_type": "code",
   "execution_count": null,
   "metadata": {},
   "outputs": [],
   "source": [
    "!cat data/tv_names.adj"
   ]
  },
  {
   "cell_type": "code",
   "execution_count": null,
   "metadata": {
    "slideshow": {
     "slide_type": "subslide"
    }
   },
   "outputs": [],
   "source": [
    "G=nx.read_adjlist(\"data/tv_names.adj\")"
   ]
  },
  {
   "cell_type": "code",
   "execution_count": null,
   "metadata": {},
   "outputs": [],
   "source": [
    "nx.draw(G, **opts)"
   ]
  },
  {
   "cell_type": "code",
   "execution_count": null,
   "metadata": {},
   "outputs": [],
   "source": [
    "opts2 = { \"with_labels\": True, \"font_color\":'r' }"
   ]
  },
  {
   "cell_type": "code",
   "execution_count": null,
   "metadata": {},
   "outputs": [],
   "source": [
    "color = nx.bipartite.color(G)\n",
    "print(color)"
   ]
  },
  {
   "cell_type": "code",
   "execution_count": null,
   "metadata": {},
   "outputs": [],
   "source": [
    "color = [color[i] for i in G.nodes()]\n",
    "opts2[\"node_color\"] = color"
   ]
  },
  {
   "cell_type": "code",
   "execution_count": null,
   "metadata": {
    "slideshow": {
     "slide_type": "subslide"
    }
   },
   "outputs": [],
   "source": [
    "actors = ['Angela','Evan','Andrew','Erika','M','John','Aoife','Jordan','Maciej','Sinead','Brian','Paulina','Nupur','Rana']\n",
    "len(actors)"
   ]
  },
  {
   "cell_type": "code",
   "execution_count": null,
   "metadata": {
    "slideshow": {
     "slide_type": "subslide"
    }
   },
   "outputs": [],
   "source": [
    "foci = ['BB','BCS','DG','Succession','HIMYM','MrB','TO','Friends','XF','Lost','TB','GoT']\n",
    "len(foci)"
   ]
  },
  {
   "cell_type": "code",
   "execution_count": null,
   "metadata": {
    "scrolled": true,
    "slideshow": {
     "slide_type": "subslide"
    }
   },
   "outputs": [],
   "source": [
    "nx.draw(G,nx.bipartite_layout(G,actors,align='vertical'),**opts2)"
   ]
  },
  {
   "cell_type": "markdown",
   "metadata": {
    "slideshow": {
     "slide_type": "subslide"
    }
   },
   "source": [
    "**Note.** The adjacency matrix $A$ of a bipartite graph $G$, with respect to a suitable ordering of the vertices\n",
    "($X_1$ first, then $X_2$), has the form of a $2 \\times 2$-block matrix,\n",
    "$$\n",
    "  A = \\left( \\begin{array}{cc} 0 & C \\\\ C^T & 0 \\end{array} \\right)\n",
    "$$\n",
    "where the blocks on the diagonal consist entirely of zeros, as there are no edges between vertices of the same color, and the lower left block is the **transpose** $C^T$ of the matrix $C$ of entries in the upper right. "
   ]
  },
  {
   "cell_type": "code",
   "execution_count": null,
   "metadata": {},
   "outputs": [],
   "source": [
    "M=nx.adjacency_matrix(G)\n",
    "print(M.toarray())"
   ]
  },
  {
   "cell_type": "markdown",
   "metadata": {
    "slideshow": {
     "slide_type": "subslide"
    }
   },
   "source": [
    "To see the adjacency matrix in block form we need to give the nodes in a suitable order..."
   ]
  },
  {
   "cell_type": "code",
   "execution_count": null,
   "metadata": {},
   "outputs": [],
   "source": [
    "H=nx.Graph()\n",
    "H.add_nodes_from(actors)\n",
    "H.add_nodes_from(foci)\n",
    "H.nodes()"
   ]
  },
  {
   "cell_type": "markdown",
   "metadata": {
    "slideshow": {
     "slide_type": "subslide"
    }
   },
   "source": [
    "... and then import the edges from $G$."
   ]
  },
  {
   "cell_type": "code",
   "execution_count": null,
   "metadata": {},
   "outputs": [],
   "source": [
    "H.add_edges_from(G.edges())\n",
    "print(list(H.edges()))"
   ]
  },
  {
   "cell_type": "code",
   "execution_count": null,
   "metadata": {
    "slideshow": {
     "slide_type": "subslide"
    }
   },
   "outputs": [],
   "source": [
    "AA=nx.adjacency_matrix(H)"
   ]
  },
  {
   "cell_type": "code",
   "execution_count": null,
   "metadata": {},
   "outputs": [],
   "source": [
    "with np.printoptions(threshold=9999):\n",
    "    print(AA.toarray())"
   ]
  },
  {
   "cell_type": "markdown",
   "metadata": {
    "slideshow": {
     "slide_type": "subslide"
    }
   },
   "source": [
    "* In `NetworkX`, all parts of a graph can have **attributes**: the nodes, \n",
    "the edges, and the graph object itself.  Graph object attributes of a graph `G` are stored in the field `G.graph`.  By convention, the two\n",
    "underlying sets of a bipartite graph are stored here as attributes\n",
    "called `'top'` and `'bottom'`.\n",
    "\n",
    "* Here, we will simply construct lists of vertices from each of the two sets $X$ and $Y$ and construct a *biadjacency matrix* (this is all it's needed to (re)construct a bipartite graph!)."
   ]
  },
  {
   "cell_type": "code",
   "execution_count": null,
   "metadata": {
    "slideshow": {
     "slide_type": "subslide"
    }
   },
   "outputs": [],
   "source": [
    "X, Y = actors, foci\n",
    "C = nx.bipartite.biadjacency_matrix(H, X, Y)\n",
    "print(C.toarray())"
   ]
  },
  {
   "cell_type": "markdown",
   "metadata": {
    "slideshow": {
     "slide_type": "subslide"
    }
   },
   "source": [
    "As $A = A^T$, we get\n",
    "\\\\[\n",
    "A^T \\cdot A = A \\cdot A^T = A \\cdot A = \n",
    "\\left(\n",
    "\\begin{array}{cc}\n",
    "C \\cdot C^T & 0 \\\\ 0 & C^T \\cdot C\n",
    "\\end{array}\n",
    "\\right)\n",
    "\\\\]\n",
    "where \n",
    "* $C \\cdot C^T$ is (almost!) the adjacency matrix of the **projection** onto the vertex set $X$,\n",
    "and \n",
    "\n",
    "* $C^T \\cdot C$is (almost!) the adjacency matrix of the **projection** onto the vertex set $Y$."
   ]
  },
  {
   "cell_type": "code",
   "execution_count": null,
   "metadata": {
    "scrolled": false,
    "slideshow": {
     "slide_type": "subslide"
    }
   },
   "outputs": [],
   "source": [
    "BB = nx.from_numpy_array((C*C.transpose()).toarray())\n",
    "nx.draw(BB, **opts)"
   ]
  },
  {
   "cell_type": "markdown",
   "metadata": {
    "slideshow": {
     "slide_type": "slide"
    }
   },
   "source": [
    "The loops are an indication that we've constructed a graph from a matrix that is not exactly an adjacency matrix:"
   ]
  },
  {
   "cell_type": "code",
   "execution_count": null,
   "metadata": {},
   "outputs": [],
   "source": [
    "print(C*C.transpose().toarray())"
   ]
  },
  {
   "cell_type": "markdown",
   "metadata": {
    "slideshow": {
     "slide_type": "slide"
    }
   },
   "source": [
    "We could use the usual method (fill the diagonal with $0$s and replace any positive number with a $1$) to get an actual adjacency matrix, or..."
   ]
  },
  {
   "cell_type": "markdown",
   "metadata": {
    "slideshow": {
     "slide_type": "subslide"
    }
   },
   "source": [
    "The `networkx` function `projected_graph` (taking input a bipartite graph and one of the two sets of vertices) does this for us:"
   ]
  },
  {
   "cell_type": "code",
   "execution_count": null,
   "metadata": {
    "slideshow": {
     "slide_type": "subslide"
    }
   },
   "outputs": [],
   "source": [
    "XX = nx.projected_graph(H, X)\n",
    "nx.draw(XX, **opts)"
   ]
  },
  {
   "cell_type": "code",
   "execution_count": null,
   "metadata": {
    "slideshow": {
     "slide_type": "subslide"
    }
   },
   "outputs": [],
   "source": [
    "YY = nx.projected_graph(H,Y)\n",
    "nx.draw(YY, **opts)"
   ]
  },
  {
   "cell_type": "markdown",
   "metadata": {
    "slideshow": {
     "slide_type": "slide"
    }
   },
   "source": [
    "### All responses"
   ]
  },
  {
   "cell_type": "markdown",
   "metadata": {
    "slideshow": {
     "slide_type": "subslide"
    }
   },
   "source": [
    "And here's an implementation of the full bipartite graph from the results of the survey, and its projections on the set of TV shows under consideration."
   ]
  },
  {
   "cell_type": "code",
   "execution_count": null,
   "metadata": {
    "slideshow": {
     "slide_type": "subslide"
    }
   },
   "outputs": [],
   "source": [
    "full_actors = [str(i) for i in range(1,21)]"
   ]
  },
  {
   "cell_type": "code",
   "execution_count": null,
   "metadata": {},
   "outputs": [],
   "source": [
    "fullG = nx.read_adjlist('data/tv.adj')"
   ]
  },
  {
   "cell_type": "code",
   "execution_count": null,
   "metadata": {
    "slideshow": {
     "slide_type": "subslide"
    }
   },
   "outputs": [],
   "source": [
    "color = nx.bipartite.color(fullG)\n",
    "print(color)"
   ]
  },
  {
   "cell_type": "code",
   "execution_count": null,
   "metadata": {
    "slideshow": {
     "slide_type": "subslide"
    }
   },
   "outputs": [],
   "source": [
    "color = [color[i] for i in fullG.nodes()]\n",
    "opts2[\"node_color\"] = color"
   ]
  },
  {
   "cell_type": "code",
   "execution_count": null,
   "metadata": {
    "slideshow": {
     "slide_type": "subslide"
    }
   },
   "outputs": [],
   "source": [
    "nx.draw(fullG,nx.bipartite_layout(fullG,foci,align='vertical'),**opts2)"
   ]
  },
  {
   "cell_type": "code",
   "execution_count": null,
   "metadata": {
    "slideshow": {
     "slide_type": "subslide"
    }
   },
   "outputs": [],
   "source": [
    "fullH=nx.Graph()\n",
    "fullH.add_nodes_from(full_actors)\n",
    "fullH.add_nodes_from(foci)\n",
    "fullH.add_edges_from(fullG.edges())"
   ]
  },
  {
   "cell_type": "code",
   "execution_count": null,
   "metadata": {
    "slideshow": {
     "slide_type": "subslide"
    }
   },
   "outputs": [],
   "source": [
    "fullC = nx.bipartite.biadjacency_matrix(fullH, full_actors,foci)"
   ]
  },
  {
   "cell_type": "code",
   "execution_count": null,
   "metadata": {
    "slideshow": {
     "slide_type": "subslide"
    }
   },
   "outputs": [],
   "source": [
    "fullXX = nx.projected_graph(fullH, full_actors)\n",
    "nx.draw(fullXX, **opts)"
   ]
  },
  {
   "cell_type": "code",
   "execution_count": null,
   "metadata": {
    "slideshow": {
     "slide_type": "subslide"
    }
   },
   "outputs": [],
   "source": [
    "fullYY = nx.projected_graph(fullH, foci)\n",
    "nx.draw(fullYY, **opts)"
   ]
  },
  {
   "cell_type": "markdown",
   "metadata": {
    "slideshow": {
     "slide_type": "subslide"
    }
   },
   "source": [
    "Adjacency in the above graphs could be considered an indication of compatibility (between people, because they have watched shows in common; between shows, because adjacent ones might be appealing for like-minded people). Similar data structures are used to inform the typical \"You might also like\" boxes that we find in apps of streaming services or online shopping websites."
   ]
  },
  {
   "cell_type": "markdown",
   "metadata": {
    "slideshow": {
     "slide_type": "slide"
    }
   },
   "source": [
    "##  Code Corner"
   ]
  },
  {
   "cell_type": "markdown",
   "metadata": {
    "slideshow": {
     "slide_type": "subslide"
    }
   },
   "source": [
    "### `numpy`"
   ]
  },
  {
   "cell_type": "markdown",
   "metadata": {},
   "source": [
    "* `array`: [[doc]](https://numpy.org/doc/stable/reference/generated/numpy.array.html)\n",
    "\n",
    "* `transpose`: [[doc]](https://numpy.org/doc/stable/reference/generated/numpy.transpose.html)\n",
    "\n",
    "* `printoptions`: [[doc]](https://numpy.org/doc/stable/reference/generated/numpy.printoptions.html) set options for printing arrays"
   ]
  },
  {
   "cell_type": "markdown",
   "metadata": {
    "slideshow": {
     "slide_type": "subslide"
    }
   },
   "source": [
    "### `networkx`"
   ]
  },
  {
   "cell_type": "markdown",
   "metadata": {},
   "source": [
    "* `bipartite.color`: [[doc]](https://networkx.org/documentation/stable/reference/algorithms/generated/networkx.algorithms.bipartite.basic.color.html) computes a $2$-coloring of a graph\n",
    "\n",
    "* `bipartite_layout`: [doc](https://networkx.org/documentation/stable/reference/generated/networkx.drawing.layout.bipartite_layout.html) works out a useful way to draw a bipartite graph"
   ]
  },
  {
   "cell_type": "markdown",
   "metadata": {
    "slideshow": {
     "slide_type": "subslide"
    }
   },
   "source": [
    "* `bipartite.biadjacency_matrix`: [[doc]](https://networkx.org/documentation/stable/reference/algorithms/generated/networkx.algorithms.bipartite.matrix.biadjacency_matrix.html) the incidence matrix of a bipartite graph\n",
    "\n",
    "* `projected_graph`: [[doc]](https://networkx.org/documentation/stable/reference/algorithms/generated/networkx.algorithms.bipartite.projection.projected_graph.html) the projected graph\n",
    "\n"
   ]
  },
  {
   "cell_type": "code",
   "execution_count": null,
   "metadata": {},
   "outputs": [],
   "source": []
  },
  {
   "cell_type": "code",
   "execution_count": null,
   "metadata": {},
   "outputs": [],
   "source": []
  }
 ],
 "metadata": {
  "celltoolbar": "Slideshow",
  "kernelspec": {
   "display_name": "Python 3 (ipykernel)",
   "language": "python",
   "name": "python3"
  },
  "language_info": {
   "codemirror_mode": {
    "name": "ipython",
    "version": 3
   },
   "file_extension": ".py",
   "mimetype": "text/x-python",
   "name": "python",
   "nbconvert_exporter": "python",
   "pygments_lexer": "ipython3",
   "version": "3.9.7"
  }
 },
 "nbformat": 4,
 "nbformat_minor": 2
}
