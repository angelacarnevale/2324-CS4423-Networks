{
 "cells": [
  {
   "cell_type": "markdown",
   "metadata": {
    "slideshow": {
     "slide_type": "slide"
    }
   },
   "source": [
    "### CS4423 - Networks\n",
    "Angela Carnevale <br />\n",
    "School of Mathematical and Statistical Sciences<br />\n",
    "University of Galway"
   ]
  },
  {
   "cell_type": "markdown",
   "metadata": {
    "slideshow": {
     "slide_type": "slide"
    }
   },
   "source": [
    "# Brief summary and Q&A\n",
    "\n",
    "**Disclaimer:** this is **not** an exhaustive list of topics. Please refer to the notes released during the semester for the complete syllabus."
   ]
  },
  {
   "cell_type": "markdown",
   "metadata": {
    "slideshow": {
     "slide_type": "subslide"
    }
   },
   "source": [
    "## 1. Graphs and Graph Theory \n",
    "\n",
    "* Generalities on (undirected, simple) graphs. Degree, handshaking lemma.\n",
    "* Adjacency matrix. \n",
    "* Graphs as relations.\n",
    "* Bipartite graphs, relations, projections, affiliation networks."
   ]
  },
  {
   "cell_type": "markdown",
   "metadata": {
    "slideshow": {
     "slide_type": "subslide"
    }
   },
   "source": [
    "## 2. Tree and graph traversal\n",
    "\n",
    "* Paths and connection. Connected components.\n",
    "* (Labelled) Trees, Cayley's formula, Prüfer code.\n",
    "* BFS and DFS.\n",
    "    * BFS: visit, distance, connected component, spanning tree...\n",
    "    * DFS (on trees): visit, recursive implementation...\n",
    "* Distance. Shortest Paths."
   ]
  },
  {
   "cell_type": "markdown",
   "metadata": {
    "slideshow": {
     "slide_type": "subslide"
    }
   },
   "source": [
    "## 3. Centrality Measures \n",
    "\n",
    "* Degree and eigenvector centrality (and their normalised analogues)\n",
    "    * Perron-Frobenius theorem\n",
    "* Closeness and Betweenness centrality (and their normalised analogues)\n",
    "\n",
    "You are expected to be able to compute various centrality measures for small graphs. In the case of eigenvector centrality, you will be provided with information on the spectrum of the adjacency matrix, and expected to start your computations/observations from there. "
   ]
  },
  {
   "cell_type": "markdown",
   "metadata": {
    "slideshow": {
     "slide_type": "subslide"
    }
   },
   "source": [
    "## 4. Random Graphs\n",
    "\n",
    "* ER models type A and B\n",
    "    * Definitions\n",
    "    * Properties. Expected size. Degree distribution.\n",
    "    * Appearance of subgraphs.\n",
    "    * ER theorem on appearance of giant component.\n"
   ]
  },
  {
   "cell_type": "markdown",
   "metadata": {
    "slideshow": {
     "slide_type": "subslide"
    }
   },
   "source": [
    "# 5. Small Worlds\n",
    "\n",
    "* Characteristic Path Length\n",
    "* Transitivity and Clustering\n",
    "* Small-world behaviour\n",
    "* WS model of random graphs"
   ]
  },
  {
   "cell_type": "markdown",
   "metadata": {
    "slideshow": {
     "slide_type": "subslide"
    }
   },
   "source": [
    "# 6. Directed Networks\n",
    "\n",
    "* Definition. Adjacency matrix. In and out degree.\n",
    "* Weakly and Strongly connected components\n",
    "    * Note. Here, you are expected to know how to define and recognise both weakly and strongly connected components, also as equivalence classes of a suitable equivalence relation. You will **not** be asked about Tarjan's algorithm for SCCs. However, you might be asked to identify strongly connected components by other observations (as we did in class and in assignments). \n",
    "* Bow-Tie structure\n",
    "* Hubs and Authorities (not for summer)\n",
    "* PageRank (not for summer)"
   ]
  },
  {
   "cell_type": "code",
   "execution_count": null,
   "metadata": {},
   "outputs": [],
   "source": []
  }
 ],
 "metadata": {
  "celltoolbar": "Slideshow",
  "kernelspec": {
   "display_name": "Python 3 (ipykernel)",
   "language": "python",
   "name": "python3"
  },
  "language_info": {
   "codemirror_mode": {
    "name": "ipython",
    "version": 3
   },
   "file_extension": ".py",
   "mimetype": "text/x-python",
   "name": "python",
   "nbconvert_exporter": "python",
   "pygments_lexer": "ipython3",
   "version": "3.9.7"
  }
 },
 "nbformat": 4,
 "nbformat_minor": 2
}
